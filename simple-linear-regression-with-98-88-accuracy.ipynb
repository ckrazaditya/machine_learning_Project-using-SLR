{
 "cells": [
  {
   "cell_type": "code",
   "execution_count": 1,
   "id": "da2f63b2",
   "metadata": {
    "_cell_guid": "b1076dfc-b9ad-4769-8c92-a6c4dae69d19",
    "_uuid": "8f2839f25d086af736a60e9eeb907d3b93b6e0e5",
    "execution": {
     "iopub.execute_input": "2023-03-02T13:53:40.040485Z",
     "iopub.status.busy": "2023-03-02T13:53:40.039541Z",
     "iopub.status.idle": "2023-03-02T13:53:41.263383Z",
     "shell.execute_reply": "2023-03-02T13:53:41.261927Z"
    },
    "papermill": {
     "duration": 1.240013,
     "end_time": "2023-03-02T13:53:41.266365",
     "exception": false,
     "start_time": "2023-03-02T13:53:40.026352",
     "status": "completed"
    },
    "tags": []
   },
   "outputs": [
    {
     "name": "stdout",
     "output_type": "stream",
     "text": [
      "/kaggle/input/random-linear-regression/train.csv\n",
      "/kaggle/input/random-linear-regression/test.csv\n"
     ]
    }
   ],
   "source": [
    "# This Python 3 environment comes with many helpful analytics libraries installed\n",
    "# It is defined by the kaggle/python Docker image: https://github.com/kaggle/docker-python\n",
    "# For example, here's several helpful packages to load\n",
    "\n",
    "import numpy as np # linear algebra\n",
    "import pandas as pd # data processing, CSV file I/O (e.g. pd.read_csv)\n",
    "import matplotlib.pyplot as plt\n",
    "import seaborn as sns\n",
    "\n",
    "# Input data files are available in the read-only \"../input/\" directory\n",
    "# For example, running this (by clicking run or pressing Shift+Enter) will list all files under the input directory\n",
    "\n",
    "import os\n",
    "for dirname, _, filenames in os.walk('/kaggle/input'):\n",
    "    for filename in filenames:\n",
    "        print(os.path.join(dirname, filename))\n",
    "\n",
    "# You can write up to 20GB to the current directory (/kaggle/working/) that gets preserved as output when you create a version using \"Save & Run All\" \n",
    "# You can also write temporary files to /kaggle/temp/, but they won't be saved outside of the current session"
   ]
  },
  {
   "cell_type": "code",
   "execution_count": 2,
   "id": "8fc110bc",
   "metadata": {
    "execution": {
     "iopub.execute_input": "2023-03-02T13:53:41.289801Z",
     "iopub.status.busy": "2023-03-02T13:53:41.289399Z",
     "iopub.status.idle": "2023-03-02T13:53:41.305789Z",
     "shell.execute_reply": "2023-03-02T13:53:41.304797Z"
    },
    "papermill": {
     "duration": 0.031475,
     "end_time": "2023-03-02T13:53:41.308362",
     "exception": false,
     "start_time": "2023-03-02T13:53:41.276887",
     "status": "completed"
    },
    "tags": []
   },
   "outputs": [],
   "source": [
    "train = pd.read_csv(\"/kaggle/input/random-linear-regression/train.csv\")"
   ]
  },
  {
   "cell_type": "code",
   "execution_count": 3,
   "id": "ccaa8885",
   "metadata": {
    "execution": {
     "iopub.execute_input": "2023-03-02T13:53:41.330490Z",
     "iopub.status.busy": "2023-03-02T13:53:41.330084Z",
     "iopub.status.idle": "2023-03-02T13:53:41.359236Z",
     "shell.execute_reply": "2023-03-02T13:53:41.358085Z"
    },
    "papermill": {
     "duration": 0.043536,
     "end_time": "2023-03-02T13:53:41.361968",
     "exception": false,
     "start_time": "2023-03-02T13:53:41.318432",
     "status": "completed"
    },
    "tags": []
   },
   "outputs": [
    {
     "data": {
      "text/html": [
       "<div>\n",
       "<style scoped>\n",
       "    .dataframe tbody tr th:only-of-type {\n",
       "        vertical-align: middle;\n",
       "    }\n",
       "\n",
       "    .dataframe tbody tr th {\n",
       "        vertical-align: top;\n",
       "    }\n",
       "\n",
       "    .dataframe thead th {\n",
       "        text-align: right;\n",
       "    }\n",
       "</style>\n",
       "<table border=\"1\" class=\"dataframe\">\n",
       "  <thead>\n",
       "    <tr style=\"text-align: right;\">\n",
       "      <th></th>\n",
       "      <th>x</th>\n",
       "      <th>y</th>\n",
       "    </tr>\n",
       "  </thead>\n",
       "  <tbody>\n",
       "    <tr>\n",
       "      <th>0</th>\n",
       "      <td>24.0</td>\n",
       "      <td>21.549452</td>\n",
       "    </tr>\n",
       "    <tr>\n",
       "      <th>1</th>\n",
       "      <td>50.0</td>\n",
       "      <td>47.464463</td>\n",
       "    </tr>\n",
       "    <tr>\n",
       "      <th>2</th>\n",
       "      <td>15.0</td>\n",
       "      <td>17.218656</td>\n",
       "    </tr>\n",
       "    <tr>\n",
       "      <th>3</th>\n",
       "      <td>38.0</td>\n",
       "      <td>36.586398</td>\n",
       "    </tr>\n",
       "    <tr>\n",
       "      <th>4</th>\n",
       "      <td>87.0</td>\n",
       "      <td>87.288984</td>\n",
       "    </tr>\n",
       "  </tbody>\n",
       "</table>\n",
       "</div>"
      ],
      "text/plain": [
       "      x          y\n",
       "0  24.0  21.549452\n",
       "1  50.0  47.464463\n",
       "2  15.0  17.218656\n",
       "3  38.0  36.586398\n",
       "4  87.0  87.288984"
      ]
     },
     "execution_count": 3,
     "metadata": {},
     "output_type": "execute_result"
    }
   ],
   "source": [
    "train.head()"
   ]
  },
  {
   "cell_type": "code",
   "execution_count": 4,
   "id": "d88f07bd",
   "metadata": {
    "execution": {
     "iopub.execute_input": "2023-03-02T13:53:41.386439Z",
     "iopub.status.busy": "2023-03-02T13:53:41.385652Z",
     "iopub.status.idle": "2023-03-02T13:53:41.398309Z",
     "shell.execute_reply": "2023-03-02T13:53:41.397259Z"
    },
    "papermill": {
     "duration": 0.028735,
     "end_time": "2023-03-02T13:53:41.401267",
     "exception": false,
     "start_time": "2023-03-02T13:53:41.372532",
     "status": "completed"
    },
    "tags": []
   },
   "outputs": [],
   "source": [
    "test = pd.read_csv(\"/kaggle/input/random-linear-regression/test.csv\")"
   ]
  },
  {
   "cell_type": "code",
   "execution_count": 5,
   "id": "7e3b50cd",
   "metadata": {
    "execution": {
     "iopub.execute_input": "2023-03-02T13:53:41.424364Z",
     "iopub.status.busy": "2023-03-02T13:53:41.423980Z",
     "iopub.status.idle": "2023-03-02T13:53:41.434820Z",
     "shell.execute_reply": "2023-03-02T13:53:41.433594Z"
    },
    "papermill": {
     "duration": 0.025353,
     "end_time": "2023-03-02T13:53:41.437219",
     "exception": false,
     "start_time": "2023-03-02T13:53:41.411866",
     "status": "completed"
    },
    "tags": []
   },
   "outputs": [
    {
     "data": {
      "text/html": [
       "<div>\n",
       "<style scoped>\n",
       "    .dataframe tbody tr th:only-of-type {\n",
       "        vertical-align: middle;\n",
       "    }\n",
       "\n",
       "    .dataframe tbody tr th {\n",
       "        vertical-align: top;\n",
       "    }\n",
       "\n",
       "    .dataframe thead th {\n",
       "        text-align: right;\n",
       "    }\n",
       "</style>\n",
       "<table border=\"1\" class=\"dataframe\">\n",
       "  <thead>\n",
       "    <tr style=\"text-align: right;\">\n",
       "      <th></th>\n",
       "      <th>x</th>\n",
       "      <th>y</th>\n",
       "    </tr>\n",
       "  </thead>\n",
       "  <tbody>\n",
       "    <tr>\n",
       "      <th>0</th>\n",
       "      <td>77</td>\n",
       "      <td>79.775152</td>\n",
       "    </tr>\n",
       "    <tr>\n",
       "      <th>1</th>\n",
       "      <td>21</td>\n",
       "      <td>23.177279</td>\n",
       "    </tr>\n",
       "    <tr>\n",
       "      <th>2</th>\n",
       "      <td>22</td>\n",
       "      <td>25.609262</td>\n",
       "    </tr>\n",
       "    <tr>\n",
       "      <th>3</th>\n",
       "      <td>20</td>\n",
       "      <td>17.857388</td>\n",
       "    </tr>\n",
       "    <tr>\n",
       "      <th>4</th>\n",
       "      <td>36</td>\n",
       "      <td>41.849864</td>\n",
       "    </tr>\n",
       "  </tbody>\n",
       "</table>\n",
       "</div>"
      ],
      "text/plain": [
       "    x          y\n",
       "0  77  79.775152\n",
       "1  21  23.177279\n",
       "2  22  25.609262\n",
       "3  20  17.857388\n",
       "4  36  41.849864"
      ]
     },
     "execution_count": 5,
     "metadata": {},
     "output_type": "execute_result"
    }
   ],
   "source": [
    "test.head()"
   ]
  },
  {
   "cell_type": "code",
   "execution_count": 6,
   "id": "6e99f031",
   "metadata": {
    "execution": {
     "iopub.execute_input": "2023-03-02T13:53:41.461353Z",
     "iopub.status.busy": "2023-03-02T13:53:41.460472Z",
     "iopub.status.idle": "2023-03-02T13:53:41.471716Z",
     "shell.execute_reply": "2023-03-02T13:53:41.470587Z"
    },
    "papermill": {
     "duration": 0.026076,
     "end_time": "2023-03-02T13:53:41.474018",
     "exception": false,
     "start_time": "2023-03-02T13:53:41.447942",
     "status": "completed"
    },
    "tags": []
   },
   "outputs": [
    {
     "data": {
      "text/html": [
       "<div>\n",
       "<style scoped>\n",
       "    .dataframe tbody tr th:only-of-type {\n",
       "        vertical-align: middle;\n",
       "    }\n",
       "\n",
       "    .dataframe tbody tr th {\n",
       "        vertical-align: top;\n",
       "    }\n",
       "\n",
       "    .dataframe thead th {\n",
       "        text-align: right;\n",
       "    }\n",
       "</style>\n",
       "<table border=\"1\" class=\"dataframe\">\n",
       "  <thead>\n",
       "    <tr style=\"text-align: right;\">\n",
       "      <th></th>\n",
       "      <th>x</th>\n",
       "      <th>y</th>\n",
       "    </tr>\n",
       "  </thead>\n",
       "  <tbody>\n",
       "    <tr>\n",
       "      <th>695</th>\n",
       "      <td>58.0</td>\n",
       "      <td>58.595006</td>\n",
       "    </tr>\n",
       "    <tr>\n",
       "      <th>696</th>\n",
       "      <td>93.0</td>\n",
       "      <td>94.625094</td>\n",
       "    </tr>\n",
       "    <tr>\n",
       "      <th>697</th>\n",
       "      <td>82.0</td>\n",
       "      <td>88.603770</td>\n",
       "    </tr>\n",
       "    <tr>\n",
       "      <th>698</th>\n",
       "      <td>66.0</td>\n",
       "      <td>63.648685</td>\n",
       "    </tr>\n",
       "    <tr>\n",
       "      <th>699</th>\n",
       "      <td>97.0</td>\n",
       "      <td>94.975266</td>\n",
       "    </tr>\n",
       "  </tbody>\n",
       "</table>\n",
       "</div>"
      ],
      "text/plain": [
       "        x          y\n",
       "695  58.0  58.595006\n",
       "696  93.0  94.625094\n",
       "697  82.0  88.603770\n",
       "698  66.0  63.648685\n",
       "699  97.0  94.975266"
      ]
     },
     "execution_count": 6,
     "metadata": {},
     "output_type": "execute_result"
    }
   ],
   "source": [
    "train.tail()"
   ]
  },
  {
   "cell_type": "code",
   "execution_count": 7,
   "id": "9f468514",
   "metadata": {
    "execution": {
     "iopub.execute_input": "2023-03-02T13:53:41.497499Z",
     "iopub.status.busy": "2023-03-02T13:53:41.497126Z",
     "iopub.status.idle": "2023-03-02T13:53:41.507521Z",
     "shell.execute_reply": "2023-03-02T13:53:41.506406Z"
    },
    "papermill": {
     "duration": 0.025287,
     "end_time": "2023-03-02T13:53:41.510166",
     "exception": false,
     "start_time": "2023-03-02T13:53:41.484879",
     "status": "completed"
    },
    "tags": []
   },
   "outputs": [
    {
     "data": {
      "text/plain": [
       "<bound method NDFrame.sample of         x          y\n",
       "0    24.0  21.549452\n",
       "1    50.0  47.464463\n",
       "2    15.0  17.218656\n",
       "3    38.0  36.586398\n",
       "4    87.0  87.288984\n",
       "..    ...        ...\n",
       "695  58.0  58.595006\n",
       "696  93.0  94.625094\n",
       "697  82.0  88.603770\n",
       "698  66.0  63.648685\n",
       "699  97.0  94.975266\n",
       "\n",
       "[700 rows x 2 columns]>"
      ]
     },
     "execution_count": 7,
     "metadata": {},
     "output_type": "execute_result"
    }
   ],
   "source": [
    "train.sample"
   ]
  },
  {
   "cell_type": "code",
   "execution_count": 8,
   "id": "221a197a",
   "metadata": {
    "execution": {
     "iopub.execute_input": "2023-03-02T13:53:41.534052Z",
     "iopub.status.busy": "2023-03-02T13:53:41.533628Z",
     "iopub.status.idle": "2023-03-02T13:53:41.539646Z",
     "shell.execute_reply": "2023-03-02T13:53:41.538858Z"
    },
    "papermill": {
     "duration": 0.02066,
     "end_time": "2023-03-02T13:53:41.541682",
     "exception": false,
     "start_time": "2023-03-02T13:53:41.521022",
     "status": "completed"
    },
    "tags": []
   },
   "outputs": [
    {
     "data": {
      "text/plain": [
       "(700, 2)"
      ]
     },
     "execution_count": 8,
     "metadata": {},
     "output_type": "execute_result"
    }
   ],
   "source": [
    "train.shape"
   ]
  },
  {
   "cell_type": "code",
   "execution_count": 9,
   "id": "3c801b1a",
   "metadata": {
    "execution": {
     "iopub.execute_input": "2023-03-02T13:53:41.565493Z",
     "iopub.status.busy": "2023-03-02T13:53:41.565100Z",
     "iopub.status.idle": "2023-03-02T13:53:41.592624Z",
     "shell.execute_reply": "2023-03-02T13:53:41.591021Z"
    },
    "papermill": {
     "duration": 0.043789,
     "end_time": "2023-03-02T13:53:41.596224",
     "exception": false,
     "start_time": "2023-03-02T13:53:41.552435",
     "status": "completed"
    },
    "tags": []
   },
   "outputs": [
    {
     "name": "stdout",
     "output_type": "stream",
     "text": [
      "<class 'pandas.core.frame.DataFrame'>\n",
      "RangeIndex: 700 entries, 0 to 699\n",
      "Data columns (total 2 columns):\n",
      " #   Column  Non-Null Count  Dtype  \n",
      "---  ------  --------------  -----  \n",
      " 0   x       700 non-null    float64\n",
      " 1   y       699 non-null    float64\n",
      "dtypes: float64(2)\n",
      "memory usage: 11.1 KB\n"
     ]
    }
   ],
   "source": [
    "train.info()"
   ]
  },
  {
   "cell_type": "code",
   "execution_count": 10,
   "id": "b6015287",
   "metadata": {
    "execution": {
     "iopub.execute_input": "2023-03-02T13:53:41.620272Z",
     "iopub.status.busy": "2023-03-02T13:53:41.619857Z",
     "iopub.status.idle": "2023-03-02T13:53:41.624114Z",
     "shell.execute_reply": "2023-03-02T13:53:41.623057Z"
    },
    "papermill": {
     "duration": 0.019067,
     "end_time": "2023-03-02T13:53:41.626482",
     "exception": false,
     "start_time": "2023-03-02T13:53:41.607415",
     "status": "completed"
    },
    "tags": []
   },
   "outputs": [],
   "source": [
    "#Data Cleaning \n",
    "# 1.Null Values Findout\n",
    "# 2. outliers detect & remove"
   ]
  },
  {
   "cell_type": "code",
   "execution_count": 11,
   "id": "9e54f888",
   "metadata": {
    "execution": {
     "iopub.execute_input": "2023-03-02T13:53:41.650061Z",
     "iopub.status.busy": "2023-03-02T13:53:41.649657Z",
     "iopub.status.idle": "2023-03-02T13:53:41.658979Z",
     "shell.execute_reply": "2023-03-02T13:53:41.657788Z"
    },
    "papermill": {
     "duration": 0.024306,
     "end_time": "2023-03-02T13:53:41.661569",
     "exception": false,
     "start_time": "2023-03-02T13:53:41.637263",
     "status": "completed"
    },
    "tags": []
   },
   "outputs": [
    {
     "data": {
      "text/plain": [
       "x    700\n",
       "y    700\n",
       "dtype: int64"
      ]
     },
     "execution_count": 11,
     "metadata": {},
     "output_type": "execute_result"
    }
   ],
   "source": [
    "train.isnull().count()"
   ]
  },
  {
   "cell_type": "code",
   "execution_count": 12,
   "id": "bc84becc",
   "metadata": {
    "execution": {
     "iopub.execute_input": "2023-03-02T13:53:41.686035Z",
     "iopub.status.busy": "2023-03-02T13:53:41.685626Z",
     "iopub.status.idle": "2023-03-02T13:53:41.693356Z",
     "shell.execute_reply": "2023-03-02T13:53:41.692112Z"
    },
    "papermill": {
     "duration": 0.023012,
     "end_time": "2023-03-02T13:53:41.695874",
     "exception": false,
     "start_time": "2023-03-02T13:53:41.672862",
     "status": "completed"
    },
    "tags": []
   },
   "outputs": [
    {
     "data": {
      "text/plain": [
       "700"
      ]
     },
     "execution_count": 12,
     "metadata": {},
     "output_type": "execute_result"
    }
   ],
   "source": [
    "train['x'].isnull().count()"
   ]
  },
  {
   "cell_type": "code",
   "execution_count": 13,
   "id": "cf89a251",
   "metadata": {
    "execution": {
     "iopub.execute_input": "2023-03-02T13:53:41.720353Z",
     "iopub.status.busy": "2023-03-02T13:53:41.719628Z",
     "iopub.status.idle": "2023-03-02T13:53:41.726331Z",
     "shell.execute_reply": "2023-03-02T13:53:41.725486Z"
    },
    "papermill": {
     "duration": 0.021335,
     "end_time": "2023-03-02T13:53:41.728494",
     "exception": false,
     "start_time": "2023-03-02T13:53:41.707159",
     "status": "completed"
    },
    "tags": []
   },
   "outputs": [
    {
     "data": {
      "text/plain": [
       "700"
      ]
     },
     "execution_count": 13,
     "metadata": {},
     "output_type": "execute_result"
    }
   ],
   "source": [
    "train['y'].isnull().count()"
   ]
  },
  {
   "cell_type": "code",
   "execution_count": 14,
   "id": "59d6ad2b",
   "metadata": {
    "execution": {
     "iopub.execute_input": "2023-03-02T13:53:41.752714Z",
     "iopub.status.busy": "2023-03-02T13:53:41.752292Z",
     "iopub.status.idle": "2023-03-02T13:53:41.761550Z",
     "shell.execute_reply": "2023-03-02T13:53:41.760684Z"
    },
    "papermill": {
     "duration": 0.02396,
     "end_time": "2023-03-02T13:53:41.763572",
     "exception": false,
     "start_time": "2023-03-02T13:53:41.739612",
     "status": "completed"
    },
    "tags": []
   },
   "outputs": [
    {
     "data": {
      "text/plain": [
       "58.000000      16\n",
       "49.000000      14\n",
       "16.000000      13\n",
       "24.000000      13\n",
       "25.000000      13\n",
       "               ..\n",
       "63.000000       3\n",
       "82.000000       2\n",
       "69.000000       2\n",
       "40.000000       2\n",
       "3530.157369     1\n",
       "Name: x, Length: 102, dtype: int64"
      ]
     },
     "execution_count": 14,
     "metadata": {},
     "output_type": "execute_result"
    }
   ],
   "source": [
    "train['x'].value_counts()"
   ]
  },
  {
   "cell_type": "code",
   "execution_count": 15,
   "id": "386a00ab",
   "metadata": {
    "execution": {
     "iopub.execute_input": "2023-03-02T13:53:41.789315Z",
     "iopub.status.busy": "2023-03-02T13:53:41.788394Z",
     "iopub.status.idle": "2023-03-02T13:53:41.798230Z",
     "shell.execute_reply": "2023-03-02T13:53:41.797085Z"
    },
    "papermill": {
     "duration": 0.025325,
     "end_time": "2023-03-02T13:53:41.800817",
     "exception": false,
     "start_time": "2023-03-02T13:53:41.775492",
     "status": "completed"
    },
    "tags": []
   },
   "outputs": [
    {
     "data": {
      "text/plain": [
       "21.549452     1\n",
       "38.462137     1\n",
       "1.576584      1\n",
       "17.461814     1\n",
       "2.116113      1\n",
       "             ..\n",
       "58.372660     1\n",
       "87.220597     1\n",
       "102.496786    1\n",
       "43.883143     1\n",
       "94.975266     1\n",
       "Name: y, Length: 699, dtype: int64"
      ]
     },
     "execution_count": 15,
     "metadata": {},
     "output_type": "execute_result"
    }
   ],
   "source": [
    "train['y'].value_counts()"
   ]
  },
  {
   "cell_type": "code",
   "execution_count": 16,
   "id": "6cfcff28",
   "metadata": {
    "execution": {
     "iopub.execute_input": "2023-03-02T13:53:41.826427Z",
     "iopub.status.busy": "2023-03-02T13:53:41.825738Z",
     "iopub.status.idle": "2023-03-02T13:53:41.836469Z",
     "shell.execute_reply": "2023-03-02T13:53:41.835232Z"
    },
    "papermill": {
     "duration": 0.026306,
     "end_time": "2023-03-02T13:53:41.838694",
     "exception": false,
     "start_time": "2023-03-02T13:53:41.812388",
     "status": "completed"
    },
    "tags": []
   },
   "outputs": [
    {
     "data": {
      "text/plain": [
       "count     700.000000\n",
       "mean       54.985939\n",
       "std       134.681703\n",
       "min         0.000000\n",
       "25%        25.000000\n",
       "50%        49.000000\n",
       "75%        75.000000\n",
       "max      3530.157369\n",
       "Name: x, dtype: float64"
      ]
     },
     "execution_count": 16,
     "metadata": {},
     "output_type": "execute_result"
    }
   ],
   "source": [
    "train[\"x\"].describe()"
   ]
  },
  {
   "cell_type": "code",
   "execution_count": 17,
   "id": "9aed7711",
   "metadata": {
    "execution": {
     "iopub.execute_input": "2023-03-02T13:53:41.865454Z",
     "iopub.status.busy": "2023-03-02T13:53:41.864802Z",
     "iopub.status.idle": "2023-03-02T13:53:41.874209Z",
     "shell.execute_reply": "2023-03-02T13:53:41.873130Z"
    },
    "papermill": {
     "duration": 0.025197,
     "end_time": "2023-03-02T13:53:41.876518",
     "exception": false,
     "start_time": "2023-03-02T13:53:41.851321",
     "status": "completed"
    },
    "tags": []
   },
   "outputs": [
    {
     "data": {
      "text/plain": [
       "count    699.000000\n",
       "mean      49.939869\n",
       "std       29.109217\n",
       "min       -3.839981\n",
       "25%       24.929968\n",
       "50%       48.973020\n",
       "75%       74.929911\n",
       "max      108.871618\n",
       "Name: y, dtype: float64"
      ]
     },
     "execution_count": 17,
     "metadata": {},
     "output_type": "execute_result"
    }
   ],
   "source": [
    "train[\"y\"].describe()"
   ]
  },
  {
   "cell_type": "code",
   "execution_count": 18,
   "id": "a9a7faed",
   "metadata": {
    "execution": {
     "iopub.execute_input": "2023-03-02T13:53:41.902556Z",
     "iopub.status.busy": "2023-03-02T13:53:41.901804Z",
     "iopub.status.idle": "2023-03-02T13:53:41.906310Z",
     "shell.execute_reply": "2023-03-02T13:53:41.905315Z"
    },
    "papermill": {
     "duration": 0.019962,
     "end_time": "2023-03-02T13:53:41.908451",
     "exception": false,
     "start_time": "2023-03-02T13:53:41.888489",
     "status": "completed"
    },
    "tags": []
   },
   "outputs": [],
   "source": [
    "#EDA "
   ]
  },
  {
   "cell_type": "code",
   "execution_count": 19,
   "id": "ae92a0ad",
   "metadata": {
    "execution": {
     "iopub.execute_input": "2023-03-02T13:53:41.934130Z",
     "iopub.status.busy": "2023-03-02T13:53:41.933690Z",
     "iopub.status.idle": "2023-03-02T13:53:42.238200Z",
     "shell.execute_reply": "2023-03-02T13:53:42.237338Z"
    },
    "papermill": {
     "duration": 0.320308,
     "end_time": "2023-03-02T13:53:42.240644",
     "exception": false,
     "start_time": "2023-03-02T13:53:41.920336",
     "status": "completed"
    },
    "tags": []
   },
   "outputs": [
    {
     "name": "stderr",
     "output_type": "stream",
     "text": [
      "/opt/conda/lib/python3.7/site-packages/ipykernel_launcher.py:1: RuntimeWarning: Second argument 'y' is ambiguous: could be a format string but is in 'data'; using as data.  If it was intended as data, set the format string to an empty string to suppress this warning.  If it was intended as a format string, explicitly pass the x-values as well.  Alternatively, rename the entry in 'data'.\n",
      "  \"\"\"Entry point for launching an IPython kernel.\n"
     ]
    },
    {
     "data": {
      "text/plain": [
       "[<matplotlib.lines.Line2D at 0x7fad60d3e0d0>]"
      ]
     },
     "execution_count": 19,
     "metadata": {},
     "output_type": "execute_result"
    },
    {
     "data": {
      "image/png": "[encoded data removed]",
      "text/plain": [
       "<Figure size 640x480 with 1 Axes>"
      ]
     },
     "metadata": {},
     "output_type": "display_data"
    }
   ],
   "source": [
    "plt.plot('x','y', data=train)"
   ]
  },
  {
   "cell_type": "code",
   "execution_count": 20,
   "id": "e1d1ef37",
   "metadata": {
    "execution": {
     "iopub.execute_input": "2023-03-02T13:53:42.267738Z",
     "iopub.status.busy": "2023-03-02T13:53:42.266718Z",
     "iopub.status.idle": "2023-03-02T13:53:42.460430Z",
     "shell.execute_reply": "2023-03-02T13:53:42.459181Z"
    },
    "papermill": {
     "duration": 0.209761,
     "end_time": "2023-03-02T13:53:42.463047",
     "exception": false,
     "start_time": "2023-03-02T13:53:42.253286",
     "status": "completed"
    },
    "tags": []
   },
   "outputs": [
    {
     "data": {
      "text/plain": [
       "{'whiskers': [<matplotlib.lines.Line2D at 0x7fad60b01b10>,\n",
       "  <matplotlib.lines.Line2D at 0x7fad60b01e10>],\n",
       " 'caps': [<matplotlib.lines.Line2D at 0x7fad60b09190>,\n",
       "  <matplotlib.lines.Line2D at 0x7fad60b094d0>],\n",
       " 'boxes': [<matplotlib.lines.Line2D at 0x7fad60b01910>],\n",
       " 'medians': [<matplotlib.lines.Line2D at 0x7fad60b09850>],\n",
       " 'fliers': [<matplotlib.lines.Line2D at 0x7fad60b09b90>],\n",
       " 'means': []}"
      ]
     },
     "execution_count": 20,
     "metadata": {},
     "output_type": "execute_result"
    },
    {
     "data": {
      "image/png": "[encoded data removed]",
      "text/plain": [
       "<Figure size 640x480 with 1 Axes>"
      ]
     },
     "metadata": {},
     "output_type": "display_data"
    }
   ],
   "source": [
    "plt.boxplot(\"x\", data = train)"
   ]
  },
  {
   "cell_type": "code",
   "execution_count": 21,
   "id": "15b9f5a1",
   "metadata": {
    "execution": {
     "iopub.execute_input": "2023-03-02T13:53:42.490922Z",
     "iopub.status.busy": "2023-03-02T13:53:42.490469Z",
     "iopub.status.idle": "2023-03-02T13:53:42.726049Z",
     "shell.execute_reply": "2023-03-02T13:53:42.725167Z"
    },
    "papermill": {
     "duration": 0.252234,
     "end_time": "2023-03-02T13:53:42.728516",
     "exception": false,
     "start_time": "2023-03-02T13:53:42.476282",
     "status": "completed"
    },
    "tags": []
   },
   "outputs": [
    {
     "data": {
      "text/plain": [
       "<matplotlib.collections.PathCollection at 0x7fad60b09d50>"
      ]
     },
     "execution_count": 21,
     "metadata": {},
     "output_type": "execute_result"
    },
    {
     "data": {
      "image/png": "[encoded data removed]",
      "text/plain": [
       "<Figure size 640x480 with 1 Axes>"
      ]
     },
     "metadata": {},
     "output_type": "display_data"
    }
   ],
   "source": [
    "plt.scatter('x','y', data=train)"
   ]
  },
  {
   "cell_type": "code",
   "execution_count": 22,
   "id": "8c7705cf",
   "metadata": {
    "execution": {
     "iopub.execute_input": "2023-03-02T13:53:42.757824Z",
     "iopub.status.busy": "2023-03-02T13:53:42.757417Z",
     "iopub.status.idle": "2023-03-02T13:53:44.364174Z",
     "shell.execute_reply": "2023-03-02T13:53:44.362603Z"
    },
    "papermill": {
     "duration": 1.625613,
     "end_time": "2023-03-02T13:53:44.367537",
     "exception": false,
     "start_time": "2023-03-02T13:53:42.741924",
     "status": "completed"
    },
    "tags": []
   },
   "outputs": [
    {
     "data": {
      "text/plain": [
       "<BarContainer object of 700 artists>"
      ]
     },
     "execution_count": 22,
     "metadata": {},
     "output_type": "execute_result"
    },
    {
     "data": {
      "image/png": "[encoded data removed]",
      "text/plain": [
       "<Figure size 640x480 with 1 Axes>"
      ]
     },
     "metadata": {},
     "output_type": "display_data"
    }
   ],
   "source": [
    "plt.bar('x','y', data=train)"
   ]
  },
  {
   "cell_type": "code",
   "execution_count": 23,
   "id": "6e0ae14b",
   "metadata": {
    "execution": {
     "iopub.execute_input": "2023-03-02T13:53:44.397076Z",
     "iopub.status.busy": "2023-03-02T13:53:44.396655Z",
     "iopub.status.idle": "2023-03-02T13:53:44.591442Z",
     "shell.execute_reply": "2023-03-02T13:53:44.590058Z"
    },
    "papermill": {
     "duration": 0.212806,
     "end_time": "2023-03-02T13:53:44.593932",
     "exception": false,
     "start_time": "2023-03-02T13:53:44.381126",
     "status": "completed"
    },
    "tags": []
   },
   "outputs": [
    {
     "data": {
      "text/plain": [
       "{'whiskers': [<matplotlib.lines.Line2D at 0x7fad529e5290>,\n",
       "  <matplotlib.lines.Line2D at 0x7fad52a053d0>],\n",
       " 'caps': [<matplotlib.lines.Line2D at 0x7fad52a05710>,\n",
       "  <matplotlib.lines.Line2D at 0x7fad52a05a50>],\n",
       " 'boxes': [<matplotlib.lines.Line2D at 0x7fad529f8d50>],\n",
       " 'medians': [<matplotlib.lines.Line2D at 0x7fad52a05dd0>],\n",
       " 'fliers': [<matplotlib.lines.Line2D at 0x7fad52a12150>],\n",
       " 'means': []}"
      ]
     },
     "execution_count": 23,
     "metadata": {},
     "output_type": "execute_result"
    },
    {
     "data": {
      "image/png": "[encoded data removed]",
      "text/plain": [
       "<Figure size 640x480 with 1 Axes>"
      ]
     },
     "metadata": {},
     "output_type": "display_data"
    }
   ],
   "source": [
    "plt.boxplot(\"x\",data=train)"
   ]
  },
  {
   "cell_type": "code",
   "execution_count": 24,
   "id": "fec51427",
   "metadata": {
    "execution": {
     "iopub.execute_input": "2023-03-02T13:53:44.623759Z",
     "iopub.status.busy": "2023-03-02T13:53:44.623329Z",
     "iopub.status.idle": "2023-03-02T13:53:44.630223Z",
     "shell.execute_reply": "2023-03-02T13:53:44.629159Z"
    },
    "papermill": {
     "duration": 0.024706,
     "end_time": "2023-03-02T13:53:44.632707",
     "exception": false,
     "start_time": "2023-03-02T13:53:44.608001",
     "status": "completed"
    },
    "tags": []
   },
   "outputs": [],
   "source": [
    "train = train.dropna()"
   ]
  },
  {
   "cell_type": "code",
   "execution_count": 25,
   "id": "5ff9609a",
   "metadata": {
    "execution": {
     "iopub.execute_input": "2023-03-02T13:53:44.662655Z",
     "iopub.status.busy": "2023-03-02T13:53:44.661591Z",
     "iopub.status.idle": "2023-03-02T13:53:44.667941Z",
     "shell.execute_reply": "2023-03-02T13:53:44.666849Z"
    },
    "papermill": {
     "duration": 0.023928,
     "end_time": "2023-03-02T13:53:44.670431",
     "exception": false,
     "start_time": "2023-03-02T13:53:44.646503",
     "status": "completed"
    },
    "tags": []
   },
   "outputs": [
    {
     "data": {
      "text/plain": [
       "(699, 2)"
      ]
     },
     "execution_count": 25,
     "metadata": {},
     "output_type": "execute_result"
    }
   ],
   "source": [
    "train.shape"
   ]
  },
  {
   "cell_type": "code",
   "execution_count": 26,
   "id": "c5191cbf",
   "metadata": {
    "execution": {
     "iopub.execute_input": "2023-03-02T13:53:44.701942Z",
     "iopub.status.busy": "2023-03-02T13:53:44.700696Z",
     "iopub.status.idle": "2023-03-02T13:53:44.932893Z",
     "shell.execute_reply": "2023-03-02T13:53:44.931507Z"
    },
    "papermill": {
     "duration": 0.25081,
     "end_time": "2023-03-02T13:53:44.935590",
     "exception": false,
     "start_time": "2023-03-02T13:53:44.684780",
     "status": "completed"
    },
    "tags": []
   },
   "outputs": [
    {
     "data": {
      "text/plain": [
       "<matplotlib.collections.PathCollection at 0x7fad52a12310>"
      ]
     },
     "execution_count": 26,
     "metadata": {},
     "output_type": "execute_result"
    },
    {
     "data": {
      "image/png": "[encoded data removed]",
      "text/plain": [
       "<Figure size 640x480 with 1 Axes>"
      ]
     },
     "metadata": {},
     "output_type": "display_data"
    }
   ],
   "source": [
    "plt.scatter('x','y', data=train)"
   ]
  },
  {
   "cell_type": "code",
   "execution_count": 27,
   "id": "148545c7",
   "metadata": {
    "execution": {
     "iopub.execute_input": "2023-03-02T13:53:44.969111Z",
     "iopub.status.busy": "2023-03-02T13:53:44.968157Z",
     "iopub.status.idle": "2023-03-02T13:53:45.197315Z",
     "shell.execute_reply": "2023-03-02T13:53:45.196086Z"
    },
    "papermill": {
     "duration": 0.248362,
     "end_time": "2023-03-02T13:53:45.199752",
     "exception": false,
     "start_time": "2023-03-02T13:53:44.951390",
     "status": "completed"
    },
    "tags": []
   },
   "outputs": [
    {
     "data": {
      "text/plain": [
       "<matplotlib.collections.PathCollection at 0x7fad5293ced0>"
      ]
     },
     "execution_count": 27,
     "metadata": {},
     "output_type": "execute_result"
    },
    {
     "data": {
      "image/png": "[encoded data removed]",
      "text/plain": [
       "<Figure size 640x480 with 1 Axes>"
      ]
     },
     "metadata": {},
     "output_type": "display_data"
    }
   ],
   "source": [
    "plt.scatter('x','y', data=test)"
   ]
  },
  {
   "cell_type": "code",
   "execution_count": 28,
   "id": "6590f83e",
   "metadata": {
    "execution": {
     "iopub.execute_input": "2023-03-02T13:53:45.233281Z",
     "iopub.status.busy": "2023-03-02T13:53:45.232133Z",
     "iopub.status.idle": "2023-03-02T13:53:45.237443Z",
     "shell.execute_reply": "2023-03-02T13:53:45.236576Z"
    },
    "papermill": {
     "duration": 0.024315,
     "end_time": "2023-03-02T13:53:45.239625",
     "exception": false,
     "start_time": "2023-03-02T13:53:45.215310",
     "status": "completed"
    },
    "tags": []
   },
   "outputs": [],
   "source": [
    "# model \n",
    "#1. simple linear regression"
   ]
  },
  {
   "cell_type": "code",
   "execution_count": 29,
   "id": "c81ed5a1",
   "metadata": {
    "execution": {
     "iopub.execute_input": "2023-03-02T13:53:45.271895Z",
     "iopub.status.busy": "2023-03-02T13:53:45.271466Z",
     "iopub.status.idle": "2023-03-02T13:53:45.559306Z",
     "shell.execute_reply": "2023-03-02T13:53:45.557991Z"
    },
    "papermill": {
     "duration": 0.307334,
     "end_time": "2023-03-02T13:53:45.562131",
     "exception": false,
     "start_time": "2023-03-02T13:53:45.254797",
     "status": "completed"
    },
    "tags": []
   },
   "outputs": [],
   "source": [
    "from sklearn import linear_model"
   ]
  },
  {
   "cell_type": "code",
   "execution_count": 30,
   "id": "0f1de9a1",
   "metadata": {
    "execution": {
     "iopub.execute_input": "2023-03-02T13:53:45.593719Z",
     "iopub.status.busy": "2023-03-02T13:53:45.593321Z",
     "iopub.status.idle": "2023-03-02T13:53:45.598304Z",
     "shell.execute_reply": "2023-03-02T13:53:45.597261Z"
    },
    "papermill": {
     "duration": 0.023307,
     "end_time": "2023-03-02T13:53:45.600494",
     "exception": false,
     "start_time": "2023-03-02T13:53:45.577187",
     "status": "completed"
    },
    "tags": []
   },
   "outputs": [],
   "source": [
    "slr = linear_model.LinearRegression()"
   ]
  },
  {
   "cell_type": "code",
   "execution_count": 31,
   "id": "46cb5a0b",
   "metadata": {
    "execution": {
     "iopub.execute_input": "2023-03-02T13:53:45.632266Z",
     "iopub.status.busy": "2023-03-02T13:53:45.631857Z",
     "iopub.status.idle": "2023-03-02T13:53:45.639006Z",
     "shell.execute_reply": "2023-03-02T13:53:45.637901Z"
    },
    "papermill": {
     "duration": 0.026004,
     "end_time": "2023-03-02T13:53:45.641464",
     "exception": false,
     "start_time": "2023-03-02T13:53:45.615460",
     "status": "completed"
    },
    "tags": []
   },
   "outputs": [],
   "source": [
    "x_train = np.array(train.iloc[:, :-1].values)\n",
    "y_train = np.array(train.iloc[:, :1].values)\n",
    "x_test = np.array(test.iloc[:, :-1].values)\n",
    "y_test = np.array(test.iloc[:, :1].values)"
   ]
  },
  {
   "cell_type": "code",
   "execution_count": 32,
   "id": "62ca667e",
   "metadata": {
    "execution": {
     "iopub.execute_input": "2023-03-02T13:53:45.673539Z",
     "iopub.status.busy": "2023-03-02T13:53:45.673075Z",
     "iopub.status.idle": "2023-03-02T13:53:45.687206Z",
     "shell.execute_reply": "2023-03-02T13:53:45.686459Z"
    },
    "papermill": {
     "duration": 0.032646,
     "end_time": "2023-03-02T13:53:45.689259",
     "exception": false,
     "start_time": "2023-03-02T13:53:45.656613",
     "status": "completed"
    },
    "tags": []
   },
   "outputs": [
    {
     "data": {
      "text/plain": [
       "LinearRegression()"
      ]
     },
     "execution_count": 32,
     "metadata": {},
     "output_type": "execute_result"
    }
   ],
   "source": [
    "slr.fit(x_train,y_train)"
   ]
  },
  {
   "cell_type": "code",
   "execution_count": 33,
   "id": "df412dc5",
   "metadata": {
    "execution": {
     "iopub.execute_input": "2023-03-02T13:53:45.721721Z",
     "iopub.status.busy": "2023-03-02T13:53:45.720673Z",
     "iopub.status.idle": "2023-03-02T13:53:45.724753Z",
     "shell.execute_reply": "2023-03-02T13:53:45.723964Z"
    },
    "papermill": {
     "duration": 0.022721,
     "end_time": "2023-03-02T13:53:45.726952",
     "exception": false,
     "start_time": "2023-03-02T13:53:45.704231",
     "status": "completed"
    },
    "tags": []
   },
   "outputs": [],
   "source": [
    "# y = mx+c\n",
    "# _coeff  (coefficient/slope/m)\n",
    "# _intercept  (bias/intercept)"
   ]
  },
  {
   "cell_type": "code",
   "execution_count": 34,
   "id": "081e1d75",
   "metadata": {
    "execution": {
     "iopub.execute_input": "2023-03-02T13:53:45.759868Z",
     "iopub.status.busy": "2023-03-02T13:53:45.758579Z",
     "iopub.status.idle": "2023-03-02T13:53:45.766135Z",
     "shell.execute_reply": "2023-03-02T13:53:45.765142Z"
    },
    "papermill": {
     "duration": 0.026375,
     "end_time": "2023-03-02T13:53:45.768506",
     "exception": false,
     "start_time": "2023-03-02T13:53:45.742131",
     "status": "completed"
    },
    "tags": []
   },
   "outputs": [
    {
     "data": {
      "text/plain": [
       "array([[1.]])"
      ]
     },
     "execution_count": 34,
     "metadata": {},
     "output_type": "execute_result"
    }
   ],
   "source": [
    "slr.coef_"
   ]
  },
  {
   "cell_type": "code",
   "execution_count": 35,
   "id": "2942507d",
   "metadata": {
    "execution": {
     "iopub.execute_input": "2023-03-02T13:53:45.800909Z",
     "iopub.status.busy": "2023-03-02T13:53:45.800451Z",
     "iopub.status.idle": "2023-03-02T13:53:45.807817Z",
     "shell.execute_reply": "2023-03-02T13:53:45.806653Z"
    },
    "papermill": {
     "duration": 0.026583,
     "end_time": "2023-03-02T13:53:45.810258",
     "exception": false,
     "start_time": "2023-03-02T13:53:45.783675",
     "status": "completed"
    },
    "tags": []
   },
   "outputs": [
    {
     "data": {
      "text/plain": [
       "array([-1.42108547e-14])"
      ]
     },
     "execution_count": 35,
     "metadata": {},
     "output_type": "execute_result"
    }
   ],
   "source": [
    "slr.intercept_"
   ]
  },
  {
   "cell_type": "code",
   "execution_count": 36,
   "id": "04afe0ef",
   "metadata": {
    "execution": {
     "iopub.execute_input": "2023-03-02T13:53:45.844578Z",
     "iopub.status.busy": "2023-03-02T13:53:45.843800Z",
     "iopub.status.idle": "2023-03-02T13:53:45.848937Z",
     "shell.execute_reply": "2023-03-02T13:53:45.847816Z"
    },
    "papermill": {
     "duration": 0.025185,
     "end_time": "2023-03-02T13:53:45.851450",
     "exception": false,
     "start_time": "2023-03-02T13:53:45.826265",
     "status": "completed"
    },
    "tags": []
   },
   "outputs": [],
   "source": [
    "y_pred = slr.predict(x_test)"
   ]
  },
  {
   "cell_type": "code",
   "execution_count": 37,
   "id": "6bbd5383",
   "metadata": {
    "execution": {
     "iopub.execute_input": "2023-03-02T13:53:45.884709Z",
     "iopub.status.busy": "2023-03-02T13:53:45.884011Z",
     "iopub.status.idle": "2023-03-02T13:53:45.895746Z",
     "shell.execute_reply": "2023-03-02T13:53:45.894640Z"
    },
    "papermill": {
     "duration": 0.031134,
     "end_time": "2023-03-02T13:53:45.898203",
     "exception": false,
     "start_time": "2023-03-02T13:53:45.867069",
     "status": "completed"
    },
    "tags": []
   },
   "outputs": [
    {
     "data": {
      "text/plain": [
       "array([[ 7.70000000e+01],\n",
       "       [ 2.10000000e+01],\n",
       "       [ 2.20000000e+01],\n",
       "       [ 2.00000000e+01],\n",
       "       [ 3.60000000e+01],\n",
       "       [ 1.50000000e+01],\n",
       "       [ 6.20000000e+01],\n",
       "       [ 9.50000000e+01],\n",
       "       [ 2.00000000e+01],\n",
       "       [ 5.00000000e+00],\n",
       "       [ 4.00000000e+00],\n",
       "       [ 1.90000000e+01],\n",
       "       [ 9.60000000e+01],\n",
       "       [ 6.20000000e+01],\n",
       "       [ 3.60000000e+01],\n",
       "       [ 1.50000000e+01],\n",
       "       [ 6.50000000e+01],\n",
       "       [ 1.40000000e+01],\n",
       "       [ 8.70000000e+01],\n",
       "       [ 6.90000000e+01],\n",
       "       [ 8.90000000e+01],\n",
       "       [ 5.10000000e+01],\n",
       "       [ 8.90000000e+01],\n",
       "       [ 2.70000000e+01],\n",
       "       [ 9.70000000e+01],\n",
       "       [ 5.80000000e+01],\n",
       "       [ 7.90000000e+01],\n",
       "       [ 2.10000000e+01],\n",
       "       [ 9.30000000e+01],\n",
       "       [ 2.70000000e+01],\n",
       "       [ 9.90000000e+01],\n",
       "       [ 3.10000000e+01],\n",
       "       [ 3.30000000e+01],\n",
       "       [ 8.00000000e+01],\n",
       "       [ 2.80000000e+01],\n",
       "       [ 4.70000000e+01],\n",
       "       [ 5.30000000e+01],\n",
       "       [ 6.90000000e+01],\n",
       "       [ 2.80000000e+01],\n",
       "       [ 3.30000000e+01],\n",
       "       [ 9.10000000e+01],\n",
       "       [ 7.10000000e+01],\n",
       "       [ 5.00000000e+01],\n",
       "       [ 7.60000000e+01],\n",
       "       [ 4.00000000e+00],\n",
       "       [ 3.70000000e+01],\n",
       "       [ 7.00000000e+01],\n",
       "       [ 6.80000000e+01],\n",
       "       [ 4.00000000e+01],\n",
       "       [ 3.50000000e+01],\n",
       "       [ 9.40000000e+01],\n",
       "       [ 8.80000000e+01],\n",
       "       [ 5.20000000e+01],\n",
       "       [ 3.10000000e+01],\n",
       "       [ 5.90000000e+01],\n",
       "       [-1.42108547e-14],\n",
       "       [ 3.90000000e+01],\n",
       "       [ 6.40000000e+01],\n",
       "       [ 6.90000000e+01],\n",
       "       [ 5.70000000e+01],\n",
       "       [ 1.30000000e+01],\n",
       "       [ 7.20000000e+01],\n",
       "       [ 7.60000000e+01],\n",
       "       [ 6.10000000e+01],\n",
       "       [ 8.20000000e+01],\n",
       "       [ 1.80000000e+01],\n",
       "       [ 4.10000000e+01],\n",
       "       [ 5.00000000e+01],\n",
       "       [ 5.50000000e+01],\n",
       "       [ 1.30000000e+01],\n",
       "       [ 4.60000000e+01],\n",
       "       [ 1.30000000e+01],\n",
       "       [ 7.90000000e+01],\n",
       "       [ 5.30000000e+01],\n",
       "       [ 1.50000000e+01],\n",
       "       [ 2.80000000e+01],\n",
       "       [ 8.10000000e+01],\n",
       "       [ 6.90000000e+01],\n",
       "       [ 5.20000000e+01],\n",
       "       [ 8.40000000e+01],\n",
       "       [ 6.80000000e+01],\n",
       "       [ 2.70000000e+01],\n",
       "       [ 5.60000000e+01],\n",
       "       [ 4.80000000e+01],\n",
       "       [ 4.00000000e+01],\n",
       "       [ 3.90000000e+01],\n",
       "       [ 8.20000000e+01],\n",
       "       [ 1.00000000e+02],\n",
       "       [ 5.90000000e+01],\n",
       "       [ 4.30000000e+01],\n",
       "       [ 6.70000000e+01],\n",
       "       [ 3.80000000e+01],\n",
       "       [ 6.30000000e+01],\n",
       "       [ 9.10000000e+01],\n",
       "       [ 6.00000000e+01],\n",
       "       [ 1.40000000e+01],\n",
       "       [ 2.10000000e+01],\n",
       "       [ 8.70000000e+01],\n",
       "       [ 7.30000000e+01],\n",
       "       [ 3.20000000e+01],\n",
       "       [ 2.00000000e+00],\n",
       "       [ 8.20000000e+01],\n",
       "       [ 1.90000000e+01],\n",
       "       [ 7.40000000e+01],\n",
       "       [ 4.20000000e+01],\n",
       "       [ 1.20000000e+01],\n",
       "       [ 1.00000000e+00],\n",
       "       [ 9.00000000e+01],\n",
       "       [ 8.90000000e+01],\n",
       "       [-1.42108547e-14],\n",
       "       [ 4.10000000e+01],\n",
       "       [ 1.60000000e+01],\n",
       "       [ 9.40000000e+01],\n",
       "       [ 9.70000000e+01],\n",
       "       [ 6.60000000e+01],\n",
       "       [ 2.40000000e+01],\n",
       "       [ 1.70000000e+01],\n",
       "       [ 9.00000000e+01],\n",
       "       [ 1.30000000e+01],\n",
       "       [-1.42108547e-14],\n",
       "       [ 6.40000000e+01],\n",
       "       [ 9.60000000e+01],\n",
       "       [ 9.80000000e+01],\n",
       "       [ 1.20000000e+01],\n",
       "       [ 4.10000000e+01],\n",
       "       [ 4.70000000e+01],\n",
       "       [ 7.80000000e+01],\n",
       "       [ 2.00000000e+01],\n",
       "       [ 8.90000000e+01],\n",
       "       [ 2.90000000e+01],\n",
       "       [ 6.40000000e+01],\n",
       "       [ 7.50000000e+01],\n",
       "       [ 1.20000000e+01],\n",
       "       [ 2.50000000e+01],\n",
       "       [ 2.80000000e+01],\n",
       "       [ 3.00000000e+01],\n",
       "       [ 6.50000000e+01],\n",
       "       [ 5.90000000e+01],\n",
       "       [ 6.40000000e+01],\n",
       "       [ 5.30000000e+01],\n",
       "       [ 7.10000000e+01],\n",
       "       [ 9.70000000e+01],\n",
       "       [ 7.30000000e+01],\n",
       "       [ 9.00000000e+00],\n",
       "       [ 1.20000000e+01],\n",
       "       [ 6.30000000e+01],\n",
       "       [ 9.90000000e+01],\n",
       "       [ 6.00000000e+01],\n",
       "       [ 3.50000000e+01],\n",
       "       [ 2.00000000e+00],\n",
       "       [ 6.00000000e+01],\n",
       "       [ 3.20000000e+01],\n",
       "       [ 9.40000000e+01],\n",
       "       [ 8.40000000e+01],\n",
       "       [ 6.30000000e+01],\n",
       "       [ 2.20000000e+01],\n",
       "       [ 8.10000000e+01],\n",
       "       [ 9.30000000e+01],\n",
       "       [ 3.30000000e+01],\n",
       "       [ 7.00000000e+00],\n",
       "       [ 4.20000000e+01],\n",
       "       [ 4.60000000e+01],\n",
       "       [ 5.40000000e+01],\n",
       "       [ 1.60000000e+01],\n",
       "       [ 4.90000000e+01],\n",
       "       [ 4.30000000e+01],\n",
       "       [ 9.50000000e+01],\n",
       "       [ 6.60000000e+01],\n",
       "       [ 2.10000000e+01],\n",
       "       [ 3.50000000e+01],\n",
       "       [ 8.00000000e+01],\n",
       "       [ 3.70000000e+01],\n",
       "       [ 5.40000000e+01],\n",
       "       [ 5.60000000e+01],\n",
       "       [ 1.00000000e+00],\n",
       "       [ 3.20000000e+01],\n",
       "       [ 5.80000000e+01],\n",
       "       [ 3.20000000e+01],\n",
       "       [ 4.60000000e+01],\n",
       "       [ 7.20000000e+01],\n",
       "       [ 1.70000000e+01],\n",
       "       [ 9.70000000e+01],\n",
       "       [ 9.30000000e+01],\n",
       "       [ 9.10000000e+01],\n",
       "       [ 3.70000000e+01],\n",
       "       [ 4.00000000e+00],\n",
       "       [ 5.40000000e+01],\n",
       "       [ 5.10000000e+01],\n",
       "       [ 2.70000000e+01],\n",
       "       [ 4.60000000e+01],\n",
       "       [ 9.20000000e+01],\n",
       "       [ 7.30000000e+01],\n",
       "       [ 7.70000000e+01],\n",
       "       [ 9.10000000e+01],\n",
       "       [ 6.10000000e+01],\n",
       "       [ 9.90000000e+01],\n",
       "       [ 4.00000000e+00],\n",
       "       [ 7.20000000e+01],\n",
       "       [ 1.90000000e+01],\n",
       "       [ 5.70000000e+01],\n",
       "       [ 7.80000000e+01],\n",
       "       [ 2.60000000e+01],\n",
       "       [ 7.40000000e+01],\n",
       "       [ 9.00000000e+01],\n",
       "       [ 6.60000000e+01],\n",
       "       [ 1.30000000e+01],\n",
       "       [ 4.00000000e+01],\n",
       "       [ 7.70000000e+01],\n",
       "       [ 6.70000000e+01],\n",
       "       [ 7.50000000e+01],\n",
       "       [ 2.30000000e+01],\n",
       "       [ 4.50000000e+01],\n",
       "       [ 5.90000000e+01],\n",
       "       [ 4.40000000e+01],\n",
       "       [ 2.30000000e+01],\n",
       "       [ 5.50000000e+01],\n",
       "       [ 5.50000000e+01],\n",
       "       [ 9.50000000e+01],\n",
       "       [ 1.20000000e+01],\n",
       "       [ 4.00000000e+00],\n",
       "       [ 7.00000000e+00],\n",
       "       [ 1.00000000e+02],\n",
       "       [ 4.80000000e+01],\n",
       "       [ 4.20000000e+01],\n",
       "       [ 9.60000000e+01],\n",
       "       [ 3.90000000e+01],\n",
       "       [ 1.00000000e+02],\n",
       "       [ 8.70000000e+01],\n",
       "       [ 1.40000000e+01],\n",
       "       [ 1.40000000e+01],\n",
       "       [ 3.70000000e+01],\n",
       "       [ 5.00000000e+00],\n",
       "       [ 8.80000000e+01],\n",
       "       [ 9.10000000e+01],\n",
       "       [ 6.50000000e+01],\n",
       "       [ 7.40000000e+01],\n",
       "       [ 5.60000000e+01],\n",
       "       [ 1.60000000e+01],\n",
       "       [ 5.00000000e+00],\n",
       "       [ 2.80000000e+01],\n",
       "       [ 9.20000000e+01],\n",
       "       [ 4.60000000e+01],\n",
       "       [ 5.40000000e+01],\n",
       "       [ 3.90000000e+01],\n",
       "       [ 4.40000000e+01],\n",
       "       [ 3.10000000e+01],\n",
       "       [ 6.80000000e+01],\n",
       "       [ 8.60000000e+01],\n",
       "       [ 9.00000000e+01],\n",
       "       [ 3.80000000e+01],\n",
       "       [ 2.10000000e+01],\n",
       "       [ 9.50000000e+01],\n",
       "       [ 5.60000000e+01],\n",
       "       [ 6.00000000e+01],\n",
       "       [ 6.50000000e+01],\n",
       "       [ 7.80000000e+01],\n",
       "       [ 8.90000000e+01],\n",
       "       [ 6.00000000e+00],\n",
       "       [ 6.70000000e+01],\n",
       "       [ 3.60000000e+01],\n",
       "       [ 1.60000000e+01],\n",
       "       [ 1.00000000e+02],\n",
       "       [ 4.50000000e+01],\n",
       "       [ 7.30000000e+01],\n",
       "       [ 5.70000000e+01],\n",
       "       [ 2.00000000e+01],\n",
       "       [ 7.60000000e+01],\n",
       "       [ 3.40000000e+01],\n",
       "       [ 5.50000000e+01],\n",
       "       [ 7.20000000e+01],\n",
       "       [ 5.50000000e+01],\n",
       "       [ 8.00000000e+00],\n",
       "       [ 5.60000000e+01],\n",
       "       [ 7.20000000e+01],\n",
       "       [ 5.80000000e+01],\n",
       "       [ 6.00000000e+00],\n",
       "       [ 9.60000000e+01],\n",
       "       [ 2.30000000e+01],\n",
       "       [ 5.80000000e+01],\n",
       "       [ 2.30000000e+01],\n",
       "       [ 1.90000000e+01],\n",
       "       [ 2.50000000e+01],\n",
       "       [ 6.40000000e+01],\n",
       "       [ 2.10000000e+01],\n",
       "       [ 5.90000000e+01],\n",
       "       [ 1.90000000e+01],\n",
       "       [ 1.60000000e+01],\n",
       "       [ 4.20000000e+01],\n",
       "       [ 4.30000000e+01],\n",
       "       [ 6.10000000e+01],\n",
       "       [ 9.20000000e+01],\n",
       "       [ 1.10000000e+01],\n",
       "       [ 4.10000000e+01],\n",
       "       [ 1.00000000e+00],\n",
       "       [ 8.00000000e+00],\n",
       "       [ 7.10000000e+01],\n",
       "       [ 4.60000000e+01],\n",
       "       [ 5.50000000e+01],\n",
       "       [ 6.20000000e+01],\n",
       "       [ 4.70000000e+01]])"
      ]
     },
     "execution_count": 37,
     "metadata": {},
     "output_type": "execute_result"
    }
   ],
   "source": [
    "y_pred"
   ]
  },
  {
   "cell_type": "code",
   "execution_count": 38,
   "id": "4b26c7ea",
   "metadata": {
    "execution": {
     "iopub.execute_input": "2023-03-02T13:53:45.932069Z",
     "iopub.status.busy": "2023-03-02T13:53:45.930904Z",
     "iopub.status.idle": "2023-03-02T13:53:45.937278Z",
     "shell.execute_reply": "2023-03-02T13:53:45.936024Z"
    },
    "papermill": {
     "duration": 0.025748,
     "end_time": "2023-03-02T13:53:45.939715",
     "exception": false,
     "start_time": "2023-03-02T13:53:45.913967",
     "status": "completed"
    },
    "tags": []
   },
   "outputs": [],
   "source": [
    "accuracy = slr.score(x_test,y_test)"
   ]
  },
  {
   "cell_type": "code",
   "execution_count": 39,
   "id": "f68ba9e6",
   "metadata": {
    "execution": {
     "iopub.execute_input": "2023-03-02T13:53:45.973458Z",
     "iopub.status.busy": "2023-03-02T13:53:45.972771Z",
     "iopub.status.idle": "2023-03-02T13:53:45.978703Z",
     "shell.execute_reply": "2023-03-02T13:53:45.977534Z"
    },
    "papermill": {
     "duration": 0.025528,
     "end_time": "2023-03-02T13:53:45.980961",
     "exception": false,
     "start_time": "2023-03-02T13:53:45.955433",
     "status": "completed"
    },
    "tags": []
   },
   "outputs": [
    {
     "name": "stdout",
     "output_type": "stream",
     "text": [
      "1.0\n"
     ]
    }
   ],
   "source": [
    "print(accuracy)"
   ]
  },
  {
   "cell_type": "code",
   "execution_count": 40,
   "id": "3b7279f1",
   "metadata": {
    "execution": {
     "iopub.execute_input": "2023-03-02T13:53:46.015524Z",
     "iopub.status.busy": "2023-03-02T13:53:46.014794Z",
     "iopub.status.idle": "2023-03-02T13:53:46.224533Z",
     "shell.execute_reply": "2023-03-02T13:53:46.223555Z"
    },
    "papermill": {
     "duration": 0.229766,
     "end_time": "2023-03-02T13:53:46.227011",
     "exception": false,
     "start_time": "2023-03-02T13:53:45.997245",
     "status": "completed"
    },
    "tags": []
   },
   "outputs": [
    {
     "data": {
      "image/png": "[encoded data removed]",
      "text/plain": [
       "<Figure size 640x480 with 1 Axes>"
      ]
     },
     "metadata": {},
     "output_type": "display_data"
    }
   ],
   "source": [
    "plt.plot(x_test,y_pred, color ='red')\n",
    "plt.scatter('x','y', data=test)\n",
    "plt.show()"
   ]
  },
  {
   "cell_type": "code",
   "execution_count": 41,
   "id": "9b023026",
   "metadata": {
    "execution": {
     "iopub.execute_input": "2023-03-02T13:53:46.262634Z",
     "iopub.status.busy": "2023-03-02T13:53:46.262032Z",
     "iopub.status.idle": "2023-03-02T13:53:46.265815Z",
     "shell.execute_reply": "2023-03-02T13:53:46.265135Z"
    },
    "papermill": {
     "duration": 0.024321,
     "end_time": "2023-03-02T13:53:46.267926",
     "exception": false,
     "start_time": "2023-03-02T13:53:46.243605",
     "status": "completed"
    },
    "tags": []
   },
   "outputs": [],
   "source": [
    "from sklearn.metrics import mean_absolute_error, mean_squared_error, r2_score"
   ]
  },
  {
   "cell_type": "code",
   "execution_count": 42,
   "id": "9f9d1519",
   "metadata": {
    "execution": {
     "iopub.execute_input": "2023-03-02T13:53:46.302617Z",
     "iopub.status.busy": "2023-03-02T13:53:46.302019Z",
     "iopub.status.idle": "2023-03-02T13:53:46.308296Z",
     "shell.execute_reply": "2023-03-02T13:53:46.307219Z"
    },
    "papermill": {
     "duration": 0.026675,
     "end_time": "2023-03-02T13:53:46.310673",
     "exception": false,
     "start_time": "2023-03-02T13:53:46.283998",
     "status": "completed"
    },
    "tags": []
   },
   "outputs": [
    {
     "data": {
      "text/plain": [
       "5.087041898832467e-15"
      ]
     },
     "execution_count": 42,
     "metadata": {},
     "output_type": "execute_result"
    }
   ],
   "source": [
    "mean_absolute_error(y_test, y_pred)"
   ]
  },
  {
   "cell_type": "code",
   "execution_count": 43,
   "id": "7a8d2d2c",
   "metadata": {
    "execution": {
     "iopub.execute_input": "2023-03-02T13:53:46.346101Z",
     "iopub.status.busy": "2023-03-02T13:53:46.345435Z",
     "iopub.status.idle": "2023-03-02T13:53:46.352760Z",
     "shell.execute_reply": "2023-03-02T13:53:46.351691Z"
    },
    "papermill": {
     "duration": 0.027799,
     "end_time": "2023-03-02T13:53:46.355073",
     "exception": false,
     "start_time": "2023-03-02T13:53:46.327274",
     "status": "completed"
    },
    "tags": []
   },
   "outputs": [
    {
     "data": {
      "text/plain": [
       "5.389678485094066e-29"
      ]
     },
     "execution_count": 43,
     "metadata": {},
     "output_type": "execute_result"
    }
   ],
   "source": [
    "mean_squared_error(y_test, y_pred)"
   ]
  },
  {
   "cell_type": "code",
   "execution_count": 44,
   "id": "db1f9cf8",
   "metadata": {
    "execution": {
     "iopub.execute_input": "2023-03-02T13:53:46.390198Z",
     "iopub.status.busy": "2023-03-02T13:53:46.389754Z",
     "iopub.status.idle": "2023-03-02T13:53:46.397281Z",
     "shell.execute_reply": "2023-03-02T13:53:46.396138Z"
    },
    "papermill": {
     "duration": 0.027964,
     "end_time": "2023-03-02T13:53:46.399717",
     "exception": false,
     "start_time": "2023-03-02T13:53:46.371753",
     "status": "completed"
    },
    "tags": []
   },
   "outputs": [
    {
     "data": {
      "text/plain": [
       "1.0"
      ]
     },
     "execution_count": 44,
     "metadata": {},
     "output_type": "execute_result"
    }
   ],
   "source": [
    "r2_score(y_test, y_pred)"
   ]
  },
  {
   "cell_type": "code",
   "execution_count": null,
   "id": "97e56c09",
   "metadata": {
    "papermill": {
     "duration": 0.016546,
     "end_time": "2023-03-02T13:53:46.432989",
     "exception": false,
     "start_time": "2023-03-02T13:53:46.416443",
     "status": "completed"
    },
    "tags": []
   },
   "outputs": [],
   "source": []
  }
 ],
 "metadata": {
  "kernelspec": {
   "display_name": "Python 3",
   "language": "python",
   "name": "python3"
  },
  "language_info": {
   "codemirror_mode": {
    "name": "ipython",
    "version": 3
   },
   "file_extension": ".py",
   "mimetype": "text/x-python",
   "name": "python",
   "nbconvert_exporter": "python",
   "pygments_lexer": "ipython3",
   "version": "3.7.12"
  },
  "papermill": {
   "default_parameters": {},
   "duration": 17.128732,
   "end_time": "2023-03-02T13:53:47.272685",
   "environment_variables": {},
   "exception": null,
   "input_path": "__notebook__.ipynb",
   "output_path": "__notebook__.ipynb",
   "parameters": {},
   "start_time": "2023-03-02T13:53:30.143953",
   "version": "2.4.0"
  }
 },
 "nbformat": 4,
 "nbformat_minor": 5
}
